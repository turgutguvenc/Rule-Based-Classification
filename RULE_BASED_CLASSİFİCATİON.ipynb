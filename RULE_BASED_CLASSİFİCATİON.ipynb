{
 "cells": [
  {
   "cell_type": "markdown",
   "id": "e6be600d",
   "metadata": {},
   "source": [
    "### Rule Based Classification\n",
    "\n",
    "In this project, I will calculate the potential revenue return of the client to the firm by using a rule-based classification."
   ]
  },
  {
   "cell_type": "markdown",
   "id": "014d97ef",
   "metadata": {},
   "source": [
    "### Business Problem:\n",
    "\n",
    "A company that sells souvenirs wants to create new level-based customer definitions (personas) using some of its customers' features, create segments according to these new customer definitions. They want to estimate how much new customers can benefit the company on average using the new segments. \n",
    "\n",
    "for example, how much can the firm make benefits from 25 years old man who uses online transactions.\n",
    "\n",
    "### Dataset\n",
    "\n",
    "The data set includes the prices of the products that an American gift company sells online and in-store and some demographic information of the users who buy these products.\n",
    "\n",
    "PRICE - product price\n",
    "\n",
    "SOURCE – online or store\n",
    "\n",
    "SEX – customer's gender\n",
    "\n",
    "STATE – USA states in which are the company has the customers \n",
    "\n",
    "AGE – Age of customers.\n",
    "\n",
    "### Purpose of Project\n",
    "\n",
    "* LEVEL BASED PERSONA DEFINITION: To be able to define new customers according to category levels (Level).\n",
    "\n",
    "* SIMPLE SEGMENTATION: Simply segment new customer definitions \n",
    "\n",
    "* RULE-BASED CLASSIFICATION: When a new customer arrives, classify this customer according to segments."
   ]
  },
  {
   "cell_type": "code",
   "execution_count": 1,
   "id": "2cb6efa5",
   "metadata": {},
   "outputs": [],
   "source": [
    "# Import libraries\n",
    "import pandas as pd "
   ]
  },
  {
   "cell_type": "markdown",
   "id": "3672b099",
   "metadata": {},
   "source": [
    "* Let's include the dataset and examine it."
   ]
  },
  {
   "cell_type": "code",
   "execution_count": 2,
   "id": "caa4813a",
   "metadata": {},
   "outputs": [
    {
     "data": {
      "text/html": [
       "<div>\n",
       "<style scoped>\n",
       "    .dataframe tbody tr th:only-of-type {\n",
       "        vertical-align: middle;\n",
       "    }\n",
       "\n",
       "    .dataframe tbody tr th {\n",
       "        vertical-align: top;\n",
       "    }\n",
       "\n",
       "    .dataframe thead th {\n",
       "        text-align: right;\n",
       "    }\n",
       "</style>\n",
       "<table border=\"1\" class=\"dataframe\">\n",
       "  <thead>\n",
       "    <tr style=\"text-align: right;\">\n",
       "      <th></th>\n",
       "      <th>price</th>\n",
       "      <th>source</th>\n",
       "      <th>sex</th>\n",
       "      <th>state</th>\n",
       "      <th>age</th>\n",
       "    </tr>\n",
       "  </thead>\n",
       "  <tbody>\n",
       "    <tr>\n",
       "      <th>0</th>\n",
       "      <td>139</td>\n",
       "      <td>store</td>\n",
       "      <td>male</td>\n",
       "      <td>CA</td>\n",
       "      <td>17</td>\n",
       "    </tr>\n",
       "    <tr>\n",
       "      <th>1</th>\n",
       "      <td>139</td>\n",
       "      <td>store</td>\n",
       "      <td>male</td>\n",
       "      <td>CA</td>\n",
       "      <td>17</td>\n",
       "    </tr>\n",
       "    <tr>\n",
       "      <th>2</th>\n",
       "      <td>149</td>\n",
       "      <td>store</td>\n",
       "      <td>male</td>\n",
       "      <td>CA</td>\n",
       "      <td>17</td>\n",
       "    </tr>\n",
       "    <tr>\n",
       "      <th>3</th>\n",
       "      <td>129</td>\n",
       "      <td>store</td>\n",
       "      <td>male</td>\n",
       "      <td>HI</td>\n",
       "      <td>17</td>\n",
       "    </tr>\n",
       "    <tr>\n",
       "      <th>4</th>\n",
       "      <td>149</td>\n",
       "      <td>store</td>\n",
       "      <td>male</td>\n",
       "      <td>HI</td>\n",
       "      <td>17</td>\n",
       "    </tr>\n",
       "  </tbody>\n",
       "</table>\n",
       "</div>"
      ],
      "text/plain": [
       "   price source   sex state  age\n",
       "0    139  store  male    CA   17\n",
       "1    139  store  male    CA   17\n",
       "2    149  store  male    CA   17\n",
       "3    129  store  male    HI   17\n",
       "4    149  store  male    HI   17"
      ]
     },
     "execution_count": 2,
     "metadata": {},
     "output_type": "execute_result"
    }
   ],
   "source": [
    "df_ = pd.read_csv(\"souvenir.csv\")\n",
    "df = df_.copy()\n",
    "df.head()"
   ]
  },
  {
   "cell_type": "code",
   "execution_count": 3,
   "id": "b5751107",
   "metadata": {
    "scrolled": false
   },
   "outputs": [
    {
     "name": "stdout",
     "output_type": "stream",
     "text": [
      "##################### Index #####################\n",
      "RangeIndex(start=0, stop=5000, step=1)\n",
      "##################### Shape #####################\n",
      "(5000, 5)\n",
      "##################### Types #####################\n",
      "price      int64\n",
      "source    object\n",
      "sex       object\n",
      "state     object\n",
      "age        int64\n",
      "dtype: object\n",
      "##################### NA #####################\n",
      "price     0\n",
      "source    0\n",
      "sex       0\n",
      "state     0\n",
      "age       0\n",
      "dtype: int64\n",
      "##################### Total NA #####################\n",
      "0\n",
      "##################### Describe #####################\n",
      "        count      mean        std    min    25%    50%    75%    max\n",
      "price  5000.0  134.1320  12.464897  109.0  129.0  139.0  139.0  159.0\n",
      "age    5000.0   23.5814   8.995908   15.0   17.0   21.0   27.0   66.0\n"
     ]
    }
   ],
   "source": [
    "# Let's examine the general structural features\n",
    "print(\"##################### Index #####################\")\n",
    "print(df.index)\n",
    "print(\"##################### Shape #####################\")\n",
    "print(df.shape)\n",
    "print(\"##################### Types #####################\")\n",
    "print(df.dtypes)\n",
    "print(\"##################### NA #####################\")\n",
    "print(df.isnull().sum())\n",
    "print(\"##################### Total NA #####################\")\n",
    "print(df.isnull().sum().sum())\n",
    "print(\"##################### Describe #####################\")\n",
    "print(df.describe().T)"
   ]
  },
  {
   "cell_type": "markdown",
   "id": "2aab9127",
   "metadata": {},
   "source": [
    "- As you can see above our dataset contains 5000 observation units, 5 variables which including continuous and categorical, no NA values.Let's look at the description section, as you can see our general customers seems young so we can make ads according to young people's interests or you can try to acquire older customers."
   ]
  },
  {
   "cell_type": "code",
   "execution_count": 4,
   "id": "f38b4e87",
   "metadata": {},
   "outputs": [
    {
     "data": {
      "text/html": [
       "<div>\n",
       "<style scoped>\n",
       "    .dataframe tbody tr th:only-of-type {\n",
       "        vertical-align: middle;\n",
       "    }\n",
       "\n",
       "    .dataframe tbody tr th {\n",
       "        vertical-align: top;\n",
       "    }\n",
       "\n",
       "    .dataframe thead th {\n",
       "        text-align: right;\n",
       "    }\n",
       "</style>\n",
       "<table border=\"1\" class=\"dataframe\">\n",
       "  <thead>\n",
       "    <tr style=\"text-align: right;\">\n",
       "      <th></th>\n",
       "      <th>price</th>\n",
       "    </tr>\n",
       "    <tr>\n",
       "      <th>state</th>\n",
       "      <th></th>\n",
       "    </tr>\n",
       "  </thead>\n",
       "  <tbody>\n",
       "    <tr>\n",
       "      <th>AL</th>\n",
       "      <td>276725</td>\n",
       "    </tr>\n",
       "    <tr>\n",
       "      <th>CA</th>\n",
       "      <td>200954</td>\n",
       "    </tr>\n",
       "    <tr>\n",
       "      <th>FL</th>\n",
       "      <td>60985</td>\n",
       "    </tr>\n",
       "    <tr>\n",
       "      <th>HI</th>\n",
       "      <td>60789</td>\n",
       "    </tr>\n",
       "    <tr>\n",
       "      <th>IA</th>\n",
       "      <td>40477</td>\n",
       "    </tr>\n",
       "    <tr>\n",
       "      <th>WA</th>\n",
       "      <td>30730</td>\n",
       "    </tr>\n",
       "  </tbody>\n",
       "</table>\n",
       "</div>"
      ],
      "text/plain": [
       "        price\n",
       "state        \n",
       "AL     276725\n",
       "CA     200954\n",
       "FL      60985\n",
       "HI      60789\n",
       "IA      40477\n",
       "WA      30730"
      ]
     },
     "execution_count": 4,
     "metadata": {},
     "output_type": "execute_result"
    }
   ],
   "source": [
    "# How much was earned in total from sales by states?\n",
    "\n",
    "df.groupby(\"state\").agg({\"price\": \"sum\"})"
   ]
  },
  {
   "cell_type": "code",
   "execution_count": 5,
   "id": "9d064455",
   "metadata": {},
   "outputs": [
    {
     "data": {
      "text/plain": [
       "store     2974\n",
       "online    2026\n",
       "Name: source, dtype: int64"
      ]
     },
     "execution_count": 5,
     "metadata": {},
     "output_type": "execute_result"
    }
   ],
   "source": [
    "# What are the sales numbers according to SOURCE types?\n",
    "df[\"source\"].value_counts()"
   ]
  },
  {
   "cell_type": "code",
   "execution_count": 8,
   "id": "3c0d2744",
   "metadata": {},
   "outputs": [
    {
     "data": {
      "text/html": [
       "<div>\n",
       "<style scoped>\n",
       "    .dataframe tbody tr th:only-of-type {\n",
       "        vertical-align: middle;\n",
       "    }\n",
       "\n",
       "    .dataframe tbody tr th {\n",
       "        vertical-align: top;\n",
       "    }\n",
       "\n",
       "    .dataframe thead th {\n",
       "        text-align: right;\n",
       "    }\n",
       "</style>\n",
       "<table border=\"1\" class=\"dataframe\">\n",
       "  <thead>\n",
       "    <tr style=\"text-align: right;\">\n",
       "      <th>state</th>\n",
       "      <th>AL</th>\n",
       "      <th>CA</th>\n",
       "      <th>FL</th>\n",
       "      <th>HI</th>\n",
       "      <th>IA</th>\n",
       "      <th>WA</th>\n",
       "    </tr>\n",
       "    <tr>\n",
       "      <th>source</th>\n",
       "      <th></th>\n",
       "      <th></th>\n",
       "      <th></th>\n",
       "      <th></th>\n",
       "      <th></th>\n",
       "      <th></th>\n",
       "    </tr>\n",
       "  </thead>\n",
       "  <tbody>\n",
       "    <tr>\n",
       "      <th>online</th>\n",
       "      <td>134.371703</td>\n",
       "      <td>134.222222</td>\n",
       "      <td>134.268817</td>\n",
       "      <td>133.272727</td>\n",
       "      <td>132.776224</td>\n",
       "      <td>133.951456</td>\n",
       "    </tr>\n",
       "    <tr>\n",
       "      <th>store</th>\n",
       "      <td>133.760357</td>\n",
       "      <td>134.387029</td>\n",
       "      <td>133.869888</td>\n",
       "      <td>136.229437</td>\n",
       "      <td>134.312500</td>\n",
       "      <td>133.330709</td>\n",
       "    </tr>\n",
       "  </tbody>\n",
       "</table>\n",
       "</div>"
      ],
      "text/plain": [
       "state           AL          CA          FL          HI          IA          WA\n",
       "source                                                                        \n",
       "online  134.371703  134.222222  134.268817  133.272727  132.776224  133.951456\n",
       "store   133.760357  134.387029  133.869888  136.229437  134.312500  133.330709"
      ]
     },
     "execution_count": 8,
     "metadata": {},
     "output_type": "execute_result"
    }
   ],
   "source": [
    "# What are the price averages in the state-source breakdown?\n",
    "df.pivot_table(values=\"price\", index=\"source\", columns=\"state\")"
   ]
  },
  {
   "cell_type": "code",
   "execution_count": 9,
   "id": "07b95112",
   "metadata": {},
   "outputs": [
    {
     "data": {
      "text/html": [
       "<div>\n",
       "<style scoped>\n",
       "    .dataframe tbody tr th:only-of-type {\n",
       "        vertical-align: middle;\n",
       "    }\n",
       "\n",
       "    .dataframe tbody tr th {\n",
       "        vertical-align: top;\n",
       "    }\n",
       "\n",
       "    .dataframe thead th {\n",
       "        text-align: right;\n",
       "    }\n",
       "</style>\n",
       "<table border=\"1\" class=\"dataframe\">\n",
       "  <thead>\n",
       "    <tr style=\"text-align: right;\">\n",
       "      <th></th>\n",
       "      <th></th>\n",
       "      <th></th>\n",
       "      <th></th>\n",
       "      <th>price</th>\n",
       "    </tr>\n",
       "    <tr>\n",
       "      <th>state</th>\n",
       "      <th>source</th>\n",
       "      <th>sex</th>\n",
       "      <th>age</th>\n",
       "      <th></th>\n",
       "    </tr>\n",
       "  </thead>\n",
       "  <tbody>\n",
       "    <tr>\n",
       "      <th>CA</th>\n",
       "      <th>store</th>\n",
       "      <th>male</th>\n",
       "      <th>46</th>\n",
       "      <td>159.0</td>\n",
       "    </tr>\n",
       "    <tr>\n",
       "      <th>IA</th>\n",
       "      <th>store</th>\n",
       "      <th>female</th>\n",
       "      <th>24</th>\n",
       "      <td>159.0</td>\n",
       "    </tr>\n",
       "    <tr>\n",
       "      <th rowspan=\"2\" valign=\"top\">AL</th>\n",
       "      <th>store</th>\n",
       "      <th>male</th>\n",
       "      <th>36</th>\n",
       "      <td>159.0</td>\n",
       "    </tr>\n",
       "    <tr>\n",
       "      <th>online</th>\n",
       "      <th>male</th>\n",
       "      <th>32</th>\n",
       "      <td>154.0</td>\n",
       "    </tr>\n",
       "    <tr>\n",
       "      <th>FL</th>\n",
       "      <th>store</th>\n",
       "      <th>female</th>\n",
       "      <th>51</th>\n",
       "      <td>149.0</td>\n",
       "    </tr>\n",
       "  </tbody>\n",
       "</table>\n",
       "</div>"
      ],
      "text/plain": [
       "                         price\n",
       "state source sex    age       \n",
       "CA    store  male   46   159.0\n",
       "IA    store  female 24   159.0\n",
       "AL    store  male   36   159.0\n",
       "      online male   32   154.0\n",
       "FL    store  female 51   149.0"
      ]
     },
     "execution_count": 9,
     "metadata": {},
     "output_type": "execute_result"
    }
   ],
   "source": [
    "# What are the total gains broken down by STATE, SOURCE, SEX, AGE?\n",
    "agg_df = df.groupby(by=[\"state\", 'source', \"sex\", \"age\"]).agg({\"price\": \"mean\"}).sort_values(\"price\", ascending=False)\n",
    "agg_df.head()"
   ]
  },
  {
   "cell_type": "code",
   "execution_count": 10,
   "id": "32e99632",
   "metadata": {},
   "outputs": [
    {
     "data": {
      "text/html": [
       "<div>\n",
       "<style scoped>\n",
       "    .dataframe tbody tr th:only-of-type {\n",
       "        vertical-align: middle;\n",
       "    }\n",
       "\n",
       "    .dataframe tbody tr th {\n",
       "        vertical-align: top;\n",
       "    }\n",
       "\n",
       "    .dataframe thead th {\n",
       "        text-align: right;\n",
       "    }\n",
       "</style>\n",
       "<table border=\"1\" class=\"dataframe\">\n",
       "  <thead>\n",
       "    <tr style=\"text-align: right;\">\n",
       "      <th></th>\n",
       "      <th>state</th>\n",
       "      <th>source</th>\n",
       "      <th>sex</th>\n",
       "      <th>age</th>\n",
       "      <th>price</th>\n",
       "    </tr>\n",
       "  </thead>\n",
       "  <tbody>\n",
       "    <tr>\n",
       "      <th>0</th>\n",
       "      <td>CA</td>\n",
       "      <td>store</td>\n",
       "      <td>male</td>\n",
       "      <td>46</td>\n",
       "      <td>159.0</td>\n",
       "    </tr>\n",
       "    <tr>\n",
       "      <th>1</th>\n",
       "      <td>IA</td>\n",
       "      <td>store</td>\n",
       "      <td>female</td>\n",
       "      <td>24</td>\n",
       "      <td>159.0</td>\n",
       "    </tr>\n",
       "    <tr>\n",
       "      <th>2</th>\n",
       "      <td>AL</td>\n",
       "      <td>store</td>\n",
       "      <td>male</td>\n",
       "      <td>36</td>\n",
       "      <td>159.0</td>\n",
       "    </tr>\n",
       "    <tr>\n",
       "      <th>3</th>\n",
       "      <td>AL</td>\n",
       "      <td>online</td>\n",
       "      <td>male</td>\n",
       "      <td>32</td>\n",
       "      <td>154.0</td>\n",
       "    </tr>\n",
       "    <tr>\n",
       "      <th>4</th>\n",
       "      <td>FL</td>\n",
       "      <td>store</td>\n",
       "      <td>female</td>\n",
       "      <td>51</td>\n",
       "      <td>149.0</td>\n",
       "    </tr>\n",
       "  </tbody>\n",
       "</table>\n",
       "</div>"
      ],
      "text/plain": [
       "  state  source     sex  age  price\n",
       "0    CA   store    male   46  159.0\n",
       "1    IA   store  female   24  159.0\n",
       "2    AL   store    male   36  159.0\n",
       "3    AL  online    male   32  154.0\n",
       "4    FL   store  female   51  149.0"
      ]
     },
     "execution_count": 10,
     "metadata": {},
     "output_type": "execute_result"
    }
   ],
   "source": [
    "# After the group by selection, the \"state\", 'source', \"sex\", \"age\" variable turn to the index. we have to make them a variable\n",
    "agg_df = agg_df.reset_index()\n",
    "agg_df.head()"
   ]
  },
  {
   "cell_type": "code",
   "execution_count": 11,
   "id": "567651b5",
   "metadata": {},
   "outputs": [
    {
     "data": {
      "text/html": [
       "<div>\n",
       "<style scoped>\n",
       "    .dataframe tbody tr th:only-of-type {\n",
       "        vertical-align: middle;\n",
       "    }\n",
       "\n",
       "    .dataframe tbody tr th {\n",
       "        vertical-align: top;\n",
       "    }\n",
       "\n",
       "    .dataframe thead th {\n",
       "        text-align: right;\n",
       "    }\n",
       "</style>\n",
       "<table border=\"1\" class=\"dataframe\">\n",
       "  <thead>\n",
       "    <tr style=\"text-align: right;\">\n",
       "      <th></th>\n",
       "      <th>state</th>\n",
       "      <th>source</th>\n",
       "      <th>sex</th>\n",
       "      <th>age</th>\n",
       "      <th>price</th>\n",
       "      <th>cat_age</th>\n",
       "    </tr>\n",
       "  </thead>\n",
       "  <tbody>\n",
       "    <tr>\n",
       "      <th>343</th>\n",
       "      <td>CA</td>\n",
       "      <td>online</td>\n",
       "      <td>male</td>\n",
       "      <td>47</td>\n",
       "      <td>119.0</td>\n",
       "      <td>41_66</td>\n",
       "    </tr>\n",
       "    <tr>\n",
       "      <th>344</th>\n",
       "      <td>IA</td>\n",
       "      <td>store</td>\n",
       "      <td>male</td>\n",
       "      <td>18</td>\n",
       "      <td>119.0</td>\n",
       "      <td>0_18</td>\n",
       "    </tr>\n",
       "    <tr>\n",
       "      <th>345</th>\n",
       "      <td>AL</td>\n",
       "      <td>online</td>\n",
       "      <td>female</td>\n",
       "      <td>38</td>\n",
       "      <td>119.0</td>\n",
       "      <td>31_40</td>\n",
       "    </tr>\n",
       "    <tr>\n",
       "      <th>346</th>\n",
       "      <td>HI</td>\n",
       "      <td>online</td>\n",
       "      <td>male</td>\n",
       "      <td>47</td>\n",
       "      <td>119.0</td>\n",
       "      <td>41_66</td>\n",
       "    </tr>\n",
       "    <tr>\n",
       "      <th>347</th>\n",
       "      <td>FL</td>\n",
       "      <td>store</td>\n",
       "      <td>male</td>\n",
       "      <td>26</td>\n",
       "      <td>109.0</td>\n",
       "      <td>24_30</td>\n",
       "    </tr>\n",
       "  </tbody>\n",
       "</table>\n",
       "</div>"
      ],
      "text/plain": [
       "    state  source     sex  age  price cat_age\n",
       "343    CA  online    male   47  119.0   41_66\n",
       "344    IA   store    male   18  119.0    0_18\n",
       "345    AL  online  female   38  119.0   31_40\n",
       "346    HI  online    male   47  119.0   41_66\n",
       "347    FL   store    male   26  109.0   24_30"
      ]
     },
     "execution_count": 11,
     "metadata": {},
     "output_type": "execute_result"
    }
   ],
   "source": [
    "# we are going to turn the age variable into the categorical variable and make a new variable called cat_age.\n",
    "# We will split the variable age using the cut() function and set its the range for cat_age.\n",
    "# for example: '0_18', '19_23', '24_30', '31_40', '41_70\n",
    "bins = [0, 18, 23, 30, 40, agg_df[\"age\"].max()]\n",
    "mylabels = ['0_18', '19_23', '24_30', '31_40', '41_' + str(agg_df[\"age\"].max())] # determining the cat_age intervals\n",
    "#splitting the age\n",
    "agg_df[\"cat_age\"] = pd.cut(agg_df[\"age\"], bins, labels=mylabels)\n",
    "agg_df.head()\n",
    "agg_df.tail()"
   ]
  },
  {
   "cell_type": "markdown",
   "id": "ec79b562",
   "metadata": {},
   "source": [
    "* Let's create level based customer (persona)  and add it in the data set as a new variable called \" customers_level_based\""
   ]
  },
  {
   "cell_type": "code",
   "execution_count": 12,
   "id": "e8648085",
   "metadata": {},
   "outputs": [
    {
     "data": {
      "text/html": [
       "<div>\n",
       "<style scoped>\n",
       "    .dataframe tbody tr th:only-of-type {\n",
       "        vertical-align: middle;\n",
       "    }\n",
       "\n",
       "    .dataframe tbody tr th {\n",
       "        vertical-align: top;\n",
       "    }\n",
       "\n",
       "    .dataframe thead th {\n",
       "        text-align: right;\n",
       "    }\n",
       "</style>\n",
       "<table border=\"1\" class=\"dataframe\">\n",
       "  <thead>\n",
       "    <tr style=\"text-align: right;\">\n",
       "      <th></th>\n",
       "      <th>state</th>\n",
       "      <th>source</th>\n",
       "      <th>sex</th>\n",
       "      <th>age</th>\n",
       "      <th>price</th>\n",
       "      <th>cat_age</th>\n",
       "      <th>customers_level_based</th>\n",
       "    </tr>\n",
       "  </thead>\n",
       "  <tbody>\n",
       "    <tr>\n",
       "      <th>0</th>\n",
       "      <td>CA</td>\n",
       "      <td>store</td>\n",
       "      <td>male</td>\n",
       "      <td>46</td>\n",
       "      <td>159.0</td>\n",
       "      <td>41_66</td>\n",
       "      <td>CA_store_male_41_66</td>\n",
       "    </tr>\n",
       "    <tr>\n",
       "      <th>1</th>\n",
       "      <td>IA</td>\n",
       "      <td>store</td>\n",
       "      <td>female</td>\n",
       "      <td>24</td>\n",
       "      <td>159.0</td>\n",
       "      <td>24_30</td>\n",
       "      <td>IA_store_female_24_30</td>\n",
       "    </tr>\n",
       "    <tr>\n",
       "      <th>2</th>\n",
       "      <td>AL</td>\n",
       "      <td>store</td>\n",
       "      <td>male</td>\n",
       "      <td>36</td>\n",
       "      <td>159.0</td>\n",
       "      <td>31_40</td>\n",
       "      <td>AL_store_male_31_40</td>\n",
       "    </tr>\n",
       "    <tr>\n",
       "      <th>3</th>\n",
       "      <td>AL</td>\n",
       "      <td>online</td>\n",
       "      <td>male</td>\n",
       "      <td>32</td>\n",
       "      <td>154.0</td>\n",
       "      <td>31_40</td>\n",
       "      <td>AL_online_male_31_40</td>\n",
       "    </tr>\n",
       "    <tr>\n",
       "      <th>4</th>\n",
       "      <td>FL</td>\n",
       "      <td>store</td>\n",
       "      <td>female</td>\n",
       "      <td>51</td>\n",
       "      <td>149.0</td>\n",
       "      <td>41_66</td>\n",
       "      <td>FL_store_female_41_66</td>\n",
       "    </tr>\n",
       "  </tbody>\n",
       "</table>\n",
       "</div>"
      ],
      "text/plain": [
       "  state  source     sex  age  price cat_age  customers_level_based\n",
       "0    CA   store    male   46  159.0   41_66    CA_store_male_41_66\n",
       "1    IA   store  female   24  159.0   24_30  IA_store_female_24_30\n",
       "2    AL   store    male   36  159.0   31_40    AL_store_male_31_40\n",
       "3    AL  online    male   32  154.0   31_40   AL_online_male_31_40\n",
       "4    FL   store  female   51  149.0   41_66  FL_store_female_41_66"
      ]
     },
     "execution_count": 12,
     "metadata": {},
     "output_type": "execute_result"
    }
   ],
   "source": [
    "cols = [i for i in agg_df.columns if i not in [\"price\", \"age\"]] #choosing the new persona's criteria from the columns\n",
    "\n",
    "agg_df[\"customers_level_based\"] = [\"_\".join(i) for i in agg_df[cols].values] \n",
    "agg_df.head()"
   ]
  },
  {
   "cell_type": "code",
   "execution_count": 13,
   "id": "c665323a",
   "metadata": {},
   "outputs": [
    {
     "data": {
      "text/html": [
       "<div>\n",
       "<style scoped>\n",
       "    .dataframe tbody tr th:only-of-type {\n",
       "        vertical-align: middle;\n",
       "    }\n",
       "\n",
       "    .dataframe tbody tr th {\n",
       "        vertical-align: top;\n",
       "    }\n",
       "\n",
       "    .dataframe thead th {\n",
       "        text-align: right;\n",
       "    }\n",
       "</style>\n",
       "<table border=\"1\" class=\"dataframe\">\n",
       "  <thead>\n",
       "    <tr style=\"text-align: right;\">\n",
       "      <th></th>\n",
       "      <th>customers_level_based</th>\n",
       "      <th>price</th>\n",
       "    </tr>\n",
       "  </thead>\n",
       "  <tbody>\n",
       "    <tr>\n",
       "      <th>0</th>\n",
       "      <td>CA_store_male_41_66</td>\n",
       "      <td>159.0</td>\n",
       "    </tr>\n",
       "    <tr>\n",
       "      <th>1</th>\n",
       "      <td>IA_store_female_24_30</td>\n",
       "      <td>159.0</td>\n",
       "    </tr>\n",
       "    <tr>\n",
       "      <th>2</th>\n",
       "      <td>AL_store_male_31_40</td>\n",
       "      <td>159.0</td>\n",
       "    </tr>\n",
       "    <tr>\n",
       "      <th>3</th>\n",
       "      <td>AL_online_male_31_40</td>\n",
       "      <td>154.0</td>\n",
       "    </tr>\n",
       "    <tr>\n",
       "      <th>4</th>\n",
       "      <td>FL_store_female_41_66</td>\n",
       "      <td>149.0</td>\n",
       "    </tr>\n",
       "  </tbody>\n",
       "</table>\n",
       "</div>"
      ],
      "text/plain": [
       "   customers_level_based  price\n",
       "0    CA_store_male_41_66  159.0\n",
       "1  IA_store_female_24_30  159.0\n",
       "2    AL_store_male_31_40  159.0\n",
       "3   AL_online_male_31_40  154.0\n",
       "4  FL_store_female_41_66  149.0"
      ]
     },
     "execution_count": 13,
     "metadata": {},
     "output_type": "execute_result"
    }
   ],
   "source": [
    "# I only get the columns that will work for me\n",
    "agg_df = agg_df[[\"customers_level_based\", \"price\"]]\n",
    "agg_df.head() "
   ]
  },
  {
   "cell_type": "code",
   "execution_count": 14,
   "id": "2e82c90f",
   "metadata": {},
   "outputs": [
    {
     "data": {
      "text/plain": [
       "AL_store_male_41_66       7\n",
       "CA_store_male_24_30       7\n",
       "CA_store_female_24_30     7\n",
       "AL_online_female_24_30    7\n",
       "AL_store_male_24_30       7\n",
       "                         ..\n",
       "IA_store_male_24_30       1\n",
       "HI_online_male_24_30      1\n",
       "WA_store_male_0_18        1\n",
       "WA_store_male_41_66       1\n",
       "FL_online_male_41_66      1\n",
       "Name: customers_level_based, Length: 109, dtype: int64"
      ]
     },
     "execution_count": 14,
     "metadata": {},
     "output_type": "execute_result"
    }
   ],
   "source": [
    "agg_df[\"customers_level_based\"].value_counts() #As you can see the customer_level_based variable is multiplexed."
   ]
  },
  {
   "cell_type": "code",
   "execution_count": 15,
   "id": "78ea1c1d",
   "metadata": {},
   "outputs": [
    {
     "data": {
      "text/plain": [
       "FL_online_female_31_40    1\n",
       "HI_online_male_31_40      1\n",
       "CA_online_female_0_18     1\n",
       "AL_store_male_41_66       1\n",
       "WA_store_male_24_30       1\n",
       "                         ..\n",
       "AL_store_male_24_30       1\n",
       "WA_store_female_19_23     1\n",
       "FL_store_male_0_18        1\n",
       "FL_online_male_41_66      1\n",
       "HI_online_male_0_18       1\n",
       "Name: customers_level_based, Length: 109, dtype: int64"
      ]
     },
     "execution_count": 15,
     "metadata": {},
     "output_type": "execute_result"
    }
   ],
   "source": [
    "#I'm unifying the multiplexed column using groupby\n",
    "agg_df = agg_df.groupby(\"customers_level_based\").agg({\"price\": \"mean\"}).reset_index()\n",
    "agg_df[\"customers_level_based\"].value_counts()"
   ]
  },
  {
   "cell_type": "markdown",
   "id": "0d26de92",
   "metadata": {},
   "source": [
    "* Using the pd.qcut function we will segment new personas by price into \"D\", \"C\", \"B\", \"A\"."
   ]
  },
  {
   "cell_type": "code",
   "execution_count": 16,
   "id": "bd478e93",
   "metadata": {},
   "outputs": [],
   "source": [
    "agg_df[\"segment\"] = pd.qcut(agg_df[\"price\"], 4, labels=[\"D\", \"C\", \"B\", \"A\"])"
   ]
  },
  {
   "cell_type": "code",
   "execution_count": 17,
   "id": "2f108745",
   "metadata": {},
   "outputs": [
    {
     "data": {
      "text/html": [
       "<div>\n",
       "<style scoped>\n",
       "    .dataframe tbody tr th:only-of-type {\n",
       "        vertical-align: middle;\n",
       "    }\n",
       "\n",
       "    .dataframe tbody tr th {\n",
       "        vertical-align: top;\n",
       "    }\n",
       "\n",
       "    .dataframe thead th {\n",
       "        text-align: right;\n",
       "    }\n",
       "</style>\n",
       "<table border=\"1\" class=\"dataframe\">\n",
       "  <thead>\n",
       "    <tr style=\"text-align: right;\">\n",
       "      <th></th>\n",
       "      <th>customers_level_based</th>\n",
       "      <th>price</th>\n",
       "      <th>segment</th>\n",
       "    </tr>\n",
       "  </thead>\n",
       "  <tbody>\n",
       "    <tr>\n",
       "      <th>0</th>\n",
       "      <td>AL_online_female_0_18</td>\n",
       "      <td>134.182411</td>\n",
       "      <td>B</td>\n",
       "    </tr>\n",
       "    <tr>\n",
       "      <th>1</th>\n",
       "      <td>AL_online_female_19_23</td>\n",
       "      <td>135.379048</td>\n",
       "      <td>B</td>\n",
       "    </tr>\n",
       "    <tr>\n",
       "      <th>2</th>\n",
       "      <td>AL_online_female_24_30</td>\n",
       "      <td>132.845238</td>\n",
       "      <td>C</td>\n",
       "    </tr>\n",
       "    <tr>\n",
       "      <th>3</th>\n",
       "      <td>AL_online_female_31_40</td>\n",
       "      <td>128.513889</td>\n",
       "      <td>D</td>\n",
       "    </tr>\n",
       "    <tr>\n",
       "      <th>4</th>\n",
       "      <td>AL_online_female_41_66</td>\n",
       "      <td>134.103727</td>\n",
       "      <td>B</td>\n",
       "    </tr>\n",
       "  </tbody>\n",
       "</table>\n",
       "</div>"
      ],
      "text/plain": [
       "    customers_level_based       price segment\n",
       "0   AL_online_female_0_18  134.182411       B\n",
       "1  AL_online_female_19_23  135.379048       B\n",
       "2  AL_online_female_24_30  132.845238       C\n",
       "3  AL_online_female_31_40  128.513889       D\n",
       "4  AL_online_female_41_66  134.103727       B"
      ]
     },
     "execution_count": 17,
     "metadata": {},
     "output_type": "execute_result"
    }
   ],
   "source": [
    "agg_df.head()"
   ]
  },
  {
   "cell_type": "code",
   "execution_count": 18,
   "id": "e1f252b4",
   "metadata": {},
   "outputs": [
    {
     "data": {
      "text/html": [
       "<div>\n",
       "<style scoped>\n",
       "    .dataframe tbody tr th:only-of-type {\n",
       "        vertical-align: middle;\n",
       "    }\n",
       "\n",
       "    .dataframe tbody tr th {\n",
       "        vertical-align: top;\n",
       "    }\n",
       "\n",
       "    .dataframe thead th {\n",
       "        text-align: right;\n",
       "    }\n",
       "</style>\n",
       "<table border=\"1\" class=\"dataframe\">\n",
       "  <thead>\n",
       "    <tr style=\"text-align: right;\">\n",
       "      <th></th>\n",
       "      <th>price</th>\n",
       "    </tr>\n",
       "    <tr>\n",
       "      <th>segment</th>\n",
       "      <th></th>\n",
       "    </tr>\n",
       "  </thead>\n",
       "  <tbody>\n",
       "    <tr>\n",
       "      <th>D</th>\n",
       "      <td>129.206780</td>\n",
       "    </tr>\n",
       "    <tr>\n",
       "      <th>C</th>\n",
       "      <td>133.509674</td>\n",
       "    </tr>\n",
       "    <tr>\n",
       "      <th>B</th>\n",
       "      <td>134.999645</td>\n",
       "    </tr>\n",
       "    <tr>\n",
       "      <th>A</th>\n",
       "      <td>138.691234</td>\n",
       "    </tr>\n",
       "  </tbody>\n",
       "</table>\n",
       "</div>"
      ],
      "text/plain": [
       "              price\n",
       "segment            \n",
       "D        129.206780\n",
       "C        133.509674\n",
       "B        134.999645\n",
       "A        138.691234"
      ]
     },
     "execution_count": 18,
     "metadata": {},
     "output_type": "execute_result"
    }
   ],
   "source": [
    "agg_df.groupby(\"segment\").agg({\"price\": \"mean\"}) #analysis of segment by price"
   ]
  },
  {
   "cell_type": "code",
   "execution_count": 19,
   "id": "49f6906f",
   "metadata": {},
   "outputs": [
    {
     "name": "stdout",
     "output_type": "stream",
     "text": [
      "number of elements of segments:\n",
      " D    28\n",
      "C    27\n",
      "B    27\n",
      "A    27\n",
      "Name: segment, dtype: int64\n",
      "total price mean:  134.05692459052992 \n",
      "\n",
      "              price                        \n",
      "                min        mean         max\n",
      "segment                                    \n",
      "D        119.000000  129.206780  132.333333\n",
      "C        132.500000  133.509674  134.077340\n",
      "B        134.103727  134.999645  136.000000\n",
      "A        136.060606  138.691234  145.428571\n"
     ]
    }
   ],
   "source": [
    "#analysis of segments\n",
    "print(\"number of elements of segments:\\n\", agg_df[\"segment\"].value_counts())\n",
    "\n",
    "print(\"total price mean: \", agg_df[\"price\"].mean(), \"\\n\")\n",
    "\n",
    "print(agg_df.groupby(\"segment\").agg({\"price\": [\"min\", \"mean\", \"max\"]}))\n",
    "\n",
    "import seaborn as sns\n",
    "\n"
   ]
  },
  {
   "cell_type": "markdown",
   "id": "9f59c567",
   "metadata": {},
   "source": [
    "############################################\n",
    "\n",
    "\n",
    "* What segment does a 33-year-old California female online shopper belong to and how much income is the company expected to generate on average?"
   ]
  },
  {
   "cell_type": "code",
   "execution_count": 31,
   "id": "2511ff62",
   "metadata": {},
   "outputs": [
    {
     "data": {
      "image/png": "[encoded data removed]",
      "text/plain": [
       "<Figure size 432x432 with 1 Axes>"
      ]
     },
     "metadata": {},
     "output_type": "display_data"
    }
   ],
   "source": [
    "sns.set_theme(style=\"whitegrid\")\n",
    "\n",
    "\n",
    "# Draw a nested barplot by species and sex\n",
    "g = sns.catplot(\n",
    "    data=agg_df, kind=\"bar\",\n",
    "    x=\"segment\", y=\"price\", ci=\"sd\", palette=\"dark\", alpha=.6, height=6\n",
    ")\n",
    "g.despine(left=True)\n",
    "g.set_axis_labels(\"\", \"Price\");\n"
   ]
  },
  {
   "cell_type": "code",
   "execution_count": 20,
   "id": "b2b0149c",
   "metadata": {},
   "outputs": [
    {
     "data": {
      "text/html": [
       "<div>\n",
       "<style scoped>\n",
       "    .dataframe tbody tr th:only-of-type {\n",
       "        vertical-align: middle;\n",
       "    }\n",
       "\n",
       "    .dataframe tbody tr th {\n",
       "        vertical-align: top;\n",
       "    }\n",
       "\n",
       "    .dataframe thead th {\n",
       "        text-align: right;\n",
       "    }\n",
       "</style>\n",
       "<table border=\"1\" class=\"dataframe\">\n",
       "  <thead>\n",
       "    <tr style=\"text-align: right;\">\n",
       "      <th></th>\n",
       "      <th>customers_level_based</th>\n",
       "      <th>price</th>\n",
       "      <th>segment</th>\n",
       "    </tr>\n",
       "  </thead>\n",
       "  <tbody>\n",
       "    <tr>\n",
       "      <th>23</th>\n",
       "      <td>CA_online_female_31_40</td>\n",
       "      <td>129.875902</td>\n",
       "      <td>D</td>\n",
       "    </tr>\n",
       "  </tbody>\n",
       "</table>\n",
       "</div>"
      ],
      "text/plain": [
       "     customers_level_based       price segment\n",
       "23  CA_online_female_31_40  129.875902       D"
      ]
     },
     "execution_count": 20,
     "metadata": {},
     "output_type": "execute_result"
    }
   ],
   "source": [
    "#California, online female 33 years old;\n",
    "new_user = \"CA_online_female_31_40\"\n",
    "agg_df[agg_df[\"customers_level_based\"] == new_user]"
   ]
  },
  {
   "cell_type": "markdown",
   "id": "2b5c1b31",
   "metadata": {},
   "source": [
    "* What segment does a 45-year-old California male store shopper belong to and how much income is the company expected to generate on average?"
   ]
  },
  {
   "cell_type": "code",
   "execution_count": 21,
   "id": "395a2aef",
   "metadata": {},
   "outputs": [
    {
     "data": {
      "text/html": [
       "<div>\n",
       "<style scoped>\n",
       "    .dataframe tbody tr th:only-of-type {\n",
       "        vertical-align: middle;\n",
       "    }\n",
       "\n",
       "    .dataframe tbody tr th {\n",
       "        vertical-align: top;\n",
       "    }\n",
       "\n",
       "    .dataframe thead th {\n",
       "        text-align: right;\n",
       "    }\n",
       "</style>\n",
       "<table border=\"1\" class=\"dataframe\">\n",
       "  <thead>\n",
       "    <tr style=\"text-align: right;\">\n",
       "      <th></th>\n",
       "      <th>customers_level_based</th>\n",
       "      <th>price</th>\n",
       "      <th>segment</th>\n",
       "    </tr>\n",
       "  </thead>\n",
       "  <tbody>\n",
       "    <tr>\n",
       "      <th>39</th>\n",
       "      <td>CA_store_male_41_66</td>\n",
       "      <td>140.041667</td>\n",
       "      <td>A</td>\n",
       "    </tr>\n",
       "  </tbody>\n",
       "</table>\n",
       "</div>"
      ],
      "text/plain": [
       "   customers_level_based       price segment\n",
       "39   CA_store_male_41_66  140.041667       A"
      ]
     },
     "execution_count": 21,
     "metadata": {},
     "output_type": "execute_result"
    }
   ],
   "source": [
    "new_user2 = \"CA_store_male_41_66\"\n",
    "agg_df[agg_df[\"customers_level_based\"] == new_user2]"
   ]
  },
  {
   "cell_type": "code",
   "execution_count": null,
   "id": "4135ca95",
   "metadata": {},
   "outputs": [],
   "source": []
  }
 ],
 "metadata": {
  "kernelspec": {
   "display_name": "Python 3",
   "language": "python",
   "name": "python3"
  },
  "language_info": {
   "codemirror_mode": {
    "name": "ipython",
    "version": 3
   },
   "file_extension": ".py",
   "mimetype": "text/x-python",
   "name": "python",
   "nbconvert_exporter": "python",
   "pygments_lexer": "ipython3",
   "version": "3.7.10"
  }
 },
 "nbformat": 4,
 "nbformat_minor": 5
}
